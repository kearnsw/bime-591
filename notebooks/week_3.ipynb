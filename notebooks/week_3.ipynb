{
 "cells": [
  {
   "cell_type": "markdown",
   "metadata": {},
   "source": [
    "# Tree Search Algorithms"
   ]
  },
  {
   "cell_type": "markdown",
   "metadata": {},
   "source": [
    "**The Problem** - Companies have attempted to streamline the process of customer care for a long time. Interactive voice response (IVR) systems first appeared in the 1970's and used dial tones to direct customer calls to various cumster care teams or automated responses. While IVR has become pervasive, it seems the quality has never really improved. Your task is to game the system and find the sequence of numbers needed to reach the prompt which directs you to a real person. \n",
    "\n",
    "Here we create a random IVR tree where one sequence of numbers leads you to the desired goal. Find the goal using depth first, and breadth first search. "
   ]
  },
  {
   "cell_type": "code",
   "execution_count": 2,
   "metadata": {},
   "outputs": [],
   "source": [
    "import random\n",
    "\n",
    "\n",
    "# A Node object for our tree. \n",
    "class Node(object):\n",
    "    \n",
    "    # Each Node has three attributes, number, goal, and a list of children. \n",
    "    def __init__(self, number, goal = False):\n",
    "        self.number = number\n",
    "        self.goal = goal\n",
    "        self.children = []\n",
    "        \n",
    "    # Add Children to a Node. \n",
    "    def add_children(self):\n",
    "        # There are 10 digits. \n",
    "        for i in range(10):\n",
    "            \n",
    "            # There is a 50% chance to add a child of a given number. \n",
    "            if random.random() < 0.5:\n",
    "                child = Node(i)\n",
    "                self.children.append(child)\n",
    "                \n",
    "                # There is a 1% chance to have a goal state.\n",
    "                if random.random() < 0.01:\n",
    "                    child.goal = True\n",
    "                    return True\n",
    "                \n",
    "        # Return false if there was no goal state nodes this time. \n",
    "        return False\n",
    "    \n",
    "    # String representation of node. \n",
    "    def __str__(self):\n",
    "        values = []\n",
    "        for child in self.children:\n",
    "            values.append(child.number)\n",
    "        return (f'Number: {self.number}, Goal: {self.goal}, Children: {values}')\n",
    "\n",
    "# Find a node with no children. \n",
    "def random_node(start_state):\n",
    "    current_node = start_state\n",
    "    while len(current_node.children) != 0:\n",
    "        index = random.randint(0,len(current_node.children) - 1)\n",
    "        current_node = current_node.children[index]\n",
    "        \n",
    "    return current_node\n",
    "\n",
    "# Add random children to random nodes until a goal state is added. \n",
    "def generate_tree():\n",
    "    start_state = Node(0)\n",
    "    goal_state = False\n",
    "    \n",
    "    while not goal_state:\n",
    "        node = random_node(start_state)\n",
    "        goal_state = node.add_children()\n",
    "    \n",
    "    return start_state"
   ]
  },
  {
   "cell_type": "code",
   "execution_count": 3,
   "metadata": {
    "scrolled": false
   },
   "outputs": [],
   "source": [
    "# A vanilla Stack class. \n",
    "class Stack(list):    \n",
    "    # Returns true of the stack is empty. \n",
    "    def empty(self):\n",
    "        return super() == []\n",
    "\n",
    "    # Add an item to the stack. \n",
    "    def push(self, item):\n",
    "        super().append(item)\n",
    "\n",
    "    # Retrieve the top item from the stack. \n",
    "    def pop(self):\n",
    "        return super().pop()\n",
    "\n",
    "# A vanilla Queue class.\n",
    "class Queue(list):\n",
    "    # Returns true of the queue is empty. \n",
    "    def empty(self):\n",
    "        return super() == []\n",
    "\n",
    "    # Add an item to the stack. \n",
    "    def push(self, item):\n",
    "        super().append(item)\n",
    "\n",
    "    # Retrieve the top item from the stack. \n",
    "    def pop(self):\n",
    "        return super().pop(0)\n",
    "    "
   ]
  },
  {
   "cell_type": "code",
   "execution_count": 4,
   "metadata": {},
   "outputs": [],
   "source": [
    "def depth_first(start_state):\n",
    "    pass\n",
    "\n",
    "def breadth_first(start_state):\n",
    "    pass"
   ]
  },
  {
   "cell_type": "code",
   "execution_count": 5,
   "metadata": {},
   "outputs": [],
   "source": [
    "# Applying a seed will fix the series of random numbers. \n",
    "random.seed(100)\n",
    "start_state = generate_tree()"
   ]
  }
 ],
 "metadata": {
  "kernelspec": {
   "display_name": "Python 3",
   "language": "python",
   "name": "python3"
  },
  "language_info": {
   "codemirror_mode": {
    "name": "ipython",
    "version": 3
   },
   "file_extension": ".py",
   "mimetype": "text/x-python",
   "name": "python",
   "nbconvert_exporter": "python",
   "pygments_lexer": "ipython3",
   "version": "3.7.3"
  }
 },
 "nbformat": 4,
 "nbformat_minor": 2
}
